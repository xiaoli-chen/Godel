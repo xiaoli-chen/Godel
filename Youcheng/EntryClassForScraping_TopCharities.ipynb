{
 "cells": [
  {
   "cell_type": "markdown",
   "metadata": {},
   "source": [
    "# Entry Class For Scraping\n",
    "\n",
    "### Using 9.9 公益 as an example\n",
    "\n",
    "### Warning: 我可能有很多废话，但是废话里面可能也有要点...怎么办～～～\n",
    "\n",
    "－陈晓理"
   ]
  },
  {
   "cell_type": "markdown",
   "metadata": {},
   "source": [
    "# 0 Prelude~~~ (俗称，前戏)\n",
    "\n",
    "网页爬虫(Scraping)是现代数据采集的重要渠道，爬虫技术应该说也一直伴随互联网的的快速发展而不断演进着。大部分网站也不甘心自己的宝贵数据就这么被爬虫给一个个爬了下来，于是网页技术中的反爬虫技巧也在不断的提高，爬虫与反爬虫这两个对手就在这‘你来我往’中不断提升各自的修行。\n",
    "\n",
    "我们这一次开一个头，先解决9.9公益日面对的问题，由此稍微展开一小点，让彭小天天朋友以小见大，以后见到其他的类型的时候，不会慌，知道应该往哪个方向寻找解决方案，当然，往 **陈晓理** 老师这边找解决方案肯定是没有问题的！\n",
    "\n",
    "在讲网页爬虫之前，我们要先讲一下网页web page，我们爬数据都是从网页上爬下来，那网页是怎样的一种格式？我们到底爬的是什么东西？\n",
    "\n",
    "我们看到的网页都是有浏览器解析后的呈现，浏览器解析的是网页的代码文件。网页代码文件分几种，基本的是 **html, css, javascript**, 其中\n",
    "\n",
    "1. **html**是大结构\n",
    "2. **css**是用来格式化这个大结构，让它变得更漂亮更有展现力\n",
    "3. **javascript**就是更灵活更强大的工具，来执行更丰富的功能\n"
   ]
  },
  {
   "cell_type": "markdown",
   "metadata": {},
   "source": [
    "### 用我的话来说，html 搭建的是骨架，肌肉和皮肤"
   ]
  },
  {
   "cell_type": "markdown",
   "metadata": {
    "collapsed": false
   },
   "source": [
    "\n",
    "![](./html_body.jpg)"
   ]
  },
  {
   "cell_type": "markdown",
   "metadata": {},
   "source": [
    "###  css来做丰胸，垫下巴，割双眼皮，美发染发"
   ]
  },
  {
   "cell_type": "markdown",
   "metadata": {},
   "source": [
    "![李云龙你这个浓眉大眼的也叛变了](https://s2.wxwenku.com/getimg/ae57950330606875df12793a1a6b54eff150d0ce3945ec7ef9cc87a595679216864c63786003cb7d9f1781d2e2d5bce85e5daea53a0d320822bfe2a2bdc03aec6615b3b6a6fce1aaafe5feb9b4f76b5dee40d41f3c086ff59d0c9a0a8ae36176a5cf85c637eca430cf5d1e2ebc049420f2f8c93dfa169c7b6b45487924df34547c59bd3eae536c7ae0bbe13ba0f2d058)"
   ]
  },
  {
   "cell_type": "markdown",
   "metadata": {},
   "source": [
    "### Javascript就是用一个大的鼓风机把你的人吹得更飘逸，更动感，更迷人～～～"
   ]
  },
  {
   "cell_type": "markdown",
   "metadata": {
    "collapsed": false
   },
   "source": [
    "![](http://img.mp.itc.cn/upload/20170620/f3d56124ee9e40a599dc86f67b07c713_th.jpg)\n"
   ]
  },
  {
   "cell_type": "code",
   "execution_count": null,
   "metadata": {
    "collapsed": true
   },
   "outputs": [],
   "source": []
  },
  {
   "cell_type": "code",
   "execution_count": null,
   "metadata": {
    "collapsed": true
   },
   "outputs": [],
   "source": []
  },
  {
   "cell_type": "code",
   "execution_count": null,
   "metadata": {
    "collapsed": true
   },
   "outputs": [],
   "source": []
  },
  {
   "cell_type": "code",
   "execution_count": null,
   "metadata": {
    "collapsed": true
   },
   "outputs": [],
   "source": []
  },
  {
   "cell_type": "markdown",
   "metadata": {},
   "source": [
    "可以了可以了，看个十七八遍就行了。梦想是美好的，现实是骨感的。我们讲网络爬虫呢，主要还是针对html，诶，诶，不要走啊，不要走啊～～～～\n",
    "\n",
    "你要这样想，我们都是真诚的人，我们都喜欢透过现象看本质，要抓重点，有了重点，才有李云龙，才有新垣结衣，来来来，我们来看看html长成什么样子"
   ]
  },
  {
   "cell_type": "markdown",
   "metadata": {},
   "source": [
    "# 1 HTML长什么样"
   ]
  },
  {
   "cell_type": "raw",
   "metadata": {},
   "source": [
    "<html>\n",
    "    <head>\n",
    "        <title>Page Title</title>\n",
    "    </head>\n",
    "    \n",
    "    <body>\n",
    "\n",
    "        <h1>My First Heading</h1>\n",
    "        <p>My first paragraph.</p>\n",
    "\n",
    "    </body>\n",
    "</html>\n",
    "\n",
    "（有没有看到，每一个部分写完了都要以反斜杠结尾，表示已经描述完成这个部分，就跟用对讲机结尾时讲的'Over'一样。脑补“导演，导演，这是第一幕，over“ － \"导演，导演，这是第二幕第1场，over“。）\n",
    "\n",
    "html是非常结构化的语言，一层结构下面有另外一层结构，一环套一环，每一环节里面再详细描述，这个部分应该写什么内容，怎么写。像上面这段html，作用是搭建出网页的结构，头(head)是什么，主体(body)内容是什么，主体内容中的标题(h1)是什么，段落内容(p)是什么。在浏览器解析了这段代码，读取、建立网页的树形结构，并渲染、绘制出我们看到的网页。\n",
    "\n",
    "我们要爬的数据，就嵌在这些层级结构中。\n"
   ]
  },
  {
   "cell_type": "markdown",
   "metadata": {},
   "source": [
    "![DOM树形结构](DOM树形结构_new.png )"
   ]
  },
  {
   "cell_type": "markdown",
   "metadata": {},
   "source": [
    "这是一般的结构，看起来如果不习惯的话，没关系，我想一个例子"
   ]
  },
  {
   "cell_type": "raw",
   "metadata": {},
   "source": [
    "（这里是我在类比，真实情况不是这样的，仅仅是表达我对乔帮主的敬意）\n",
    "比如说假如下面就是一个网页，网页由图片和文字组成，一个是乔帮主的头像，另外是文字信息\n",
    "假如哈，以下是假如：\n",
    "<html>\n",
    "    <图片>乔帮主.jpg</图片>\n",
    "    <标题 字体大小＝大 位置信息＝左边> Steve Jobs</标题>\n",
    "    <段落 字体大小=中等 位置信息＝左边> 1955-2011</段落>\n",
    "    \n",
    "</html>\n",
    "\n"
   ]
  },
  {
   "cell_type": "markdown",
   "metadata": {},
   "source": [
    "这里面的层级结构更简单"
   ]
  },
  {
   "cell_type": "markdown",
   "metadata": {},
   "source": [
    "![乔帮主DOM结构](乔帮主DOM树形图.png)"
   ]
  },
  {
   "cell_type": "markdown",
   "metadata": {},
   "source": [
    "![乔帮主](http://i0.sinaimg.cn/IT/2011/1215/U5384P2DT20111215041107.png)"
   ]
  },
  {
   "cell_type": "code",
   "execution_count": null,
   "metadata": {
    "collapsed": true
   },
   "outputs": [],
   "source": []
  },
  {
   "cell_type": "markdown",
   "metadata": {},
   "source": []
  },
  {
   "cell_type": "raw",
   "metadata": {},
   "source": [
    "那么问题来了，我现在有10万个网页，都是已经去世的名人的头像（图像），附上姓名（文字），生卒年（文字），我们想要整理名人的生卒年信息，我不可能手动一个一个地去copy paste。那么，我们就需要用网络爬虫，到网页中把重点的信息挑出来，存到我们自己的数据库里面（往往最开始的信息是不能直接用的，要经过进一步的清理和整理之后才能用）。"
   ]
  },
  {
   "cell_type": "markdown",
   "metadata": {},
   "source": [
    "比如在这里，我们需要网络爬虫沿着html的层级结构，定位到乔帮主的姓名和生卒年信息，然后copy下来。\n",
    "但首先，我们需要查看html代码，确定这样的信息能不能爬下来，应该用什么样的方法来爬，然后用人工的方式定位这些信息的位置，然后再用其他工具，将人工定位转为用工具来识别位置的特征，实现定位。\n",
    "\n",
    "所以，最基本的网络爬虫中，有两个方面是最主要的：\n",
    "\n",
    "通过查看html网页结构，我们必须了解\n",
    "1. **数据来源类型**\n",
    "2. **定位数据位置**\n"
   ]
  },
  {
   "cell_type": "markdown",
   "metadata": {},
   "source": [
    "# 2 来看看99公益日结果页面的网页结构"
   ]
  },
  {
   "cell_type": "markdown",
   "metadata": {},
   "source": [
    "### 这里有若干知识点"
   ]
  },
  {
   "cell_type": "markdown",
   "metadata": {},
   "source": [
    "1. 首先，如何查看给定网页的html代码？"
   ]
  },
  {
   "cell_type": "markdown",
   "metadata": {},
   "source": [
    "来来来，这样，以chrome为例，将网址（http://ssl.gongyi.qq.com/m/201799/realtime.html?tp=2&o=1） copy到地址栏，回车，然后在页面上用鼠标右键点击，选择** inspect ** ，chrome就将你带入查看网页代码的界面了"
   ]
  },
  {
   "cell_type": "markdown",
   "metadata": {},
   "source": [
    "![inspect](./inspect.png)"
   ]
  },
  {
   "cell_type": "markdown",
   "metadata": {},
   "source": [
    "那么为什么我们会看到页面上出现“为了更好的体验，请是用竖屏浏览”, 这是因为这个网页是专门给手机看的。没事儿，在**inspect**模式中, 选择右上方的“**手机阅览模式 toggle divice toolbar**”自然就去掉这个页面，然后就能够看到最关心的榜单页面了"
   ]
  },
  {
   "cell_type": "markdown",
   "metadata": {},
   "source": [
    "![手机阅览模式](./手机阅览模式.png)"
   ]
  },
  {
   "cell_type": "markdown",
   "metadata": {},
   "source": [
    "![榜单页面](./榜单页面.png)"
   ]
  },
  {
   "cell_type": "markdown",
   "metadata": {},
   "source": [
    "## 2.1 查看html结构，确定数据位置和来源"
   ]
  },
  {
   "cell_type": "markdown",
   "metadata": {},
   "source": [
    "点击页面右上方的**Elements**一栏，进入HTML代码查看页面，"
   ]
  },
  {
   "cell_type": "markdown",
   "metadata": {},
   "source": [
    "我们可以清楚的看到HTML的层次结构，点击小三角还能够展开这一项的内容，同时，左边页面将显示该段代码对应的网页位置。"
   ]
  },
  {
   "cell_type": "markdown",
   "metadata": {},
   "source": [
    "![](99右侧定位左侧new.png)"
   ]
  },
  {
   "cell_type": "markdown",
   "metadata": {},
   "source": [
    "我们也可以直接用鼠标右键移到左边网页中的位置，右键点击，然后在出现菜单中点击**inspect**，就可以在右侧的代码页面中看到对应的代码，非常方便"
   ]
  },
  {
   "cell_type": "markdown",
   "metadata": {},
   "source": [
    "![](99inspect.png)"
   ]
  },
  {
   "cell_type": "markdown",
   "metadata": {
    "collapsed": true
   },
   "source": [
    "我们关注的有这几个关键信息：\n",
    "1. 基金会名称\n",
    "2. 基金会排名\n",
    "3. 参与捐赠的人数\n",
    "4. 捐赠总额\n"
   ]
  },
  {
   "cell_type": "markdown",
   "metadata": {
    "collapsed": true
   },
   "source": [
    "在HTML中，我们看到了相应的信息以及他们的位置，那我们试着把这页html拿下来，仔细看看怎么爬。"
   ]
  },
  {
   "cell_type": "code",
   "execution_count": null,
   "metadata": {
    "collapsed": true
   },
   "outputs": [],
   "source": []
  },
  {
   "cell_type": "markdown",
   "metadata": {},
   "source": [
    "## 2.2 动手下载并读取网页HTML"
   ]
  },
  {
   "cell_type": "markdown",
   "metadata": {},
   "source": [
    "我们要用到的是python 的几个经典包，包括 BeautifulSoup, urllib, 或者requests"
   ]
  },
  {
   "cell_type": "code",
   "execution_count": 2,
   "metadata": {
    "collapsed": true
   },
   "outputs": [],
   "source": [
    "from bs4 import BeautifulSoup\n",
    "import urllib.request\n",
    "import urllib.parse\n",
    "import requests\n",
    "# urllib.request\n",
    "import re\n",
    "import json\n",
    "import json2html\n",
    "import pandas as pd"
   ]
  },
  {
   "cell_type": "code",
   "execution_count": 9,
   "metadata": {
    "collapsed": false
   },
   "outputs": [],
   "source": [
    "# \n",
    "url = \"http://ssl.gongyi.qq.com/m/201799/realtime.html?tp=2&o=1\"\n",
    "page = urllib.request.urlopen(url)\n",
    "soup = BeautifulSoup(page, 'lxml')"
   ]
  },
  {
   "cell_type": "markdown",
   "metadata": {},
   "source": [
    "该网页的 HTML信息就存到了soup这个变量里面，然后我们看一看这些HTML信息是什么"
   ]
  },
  {
   "cell_type": "code",
   "execution_count": 11,
   "metadata": {
    "collapsed": false
   },
   "outputs": [
    {
     "data": {
      "text/plain": [
       "<!DOCTYPE html>\n",
       "<html>\n",
       "<head>\n",
       "<meta charset=\"utf-8\"/>\n",
       "<meta content=\"腾讯公益\" name=\"description\"/>\n",
       "<meta content=\"腾讯公益\" name=\"keywords\"/>\n",
       "<meta content=\"IE=edge,chrome=1\" http-equiv=\"X-UA-Compatible\"/>\n",
       "<meta content=\"webkit|ie-comp|ie-stand\" name=\"renderer\"/>\n",
       "<!-- 避免转码 -->\n",
       "<meta content=\"no-siteapp\" http-equiv=\"Cache-Control\"/>\n",
       "<meta content=\"width=device-width,initial-scale=1,user-scalable=0\" name=\"viewport\"/>\n",
       "<meta content=\"telephone=no\" name=\"format-detection\"/>\n",
       "<meta content=\"腾讯公益\" name=\"apple-mobile-web-app-title\"/>\n",
       "<title>腾讯公益 - 实时战报</title>\n",
       "<script type=\"text/javascript\">\n",
       "            (function() {\n",
       "                var baseFontSize = 100;\n",
       "                var baseWidth = 375;\n",
       "                var clientWidth = document.documentElement.clientWidth || window.innerWidth;\n",
       "                var innerWidth = Math.max(Math.min(clientWidth, 480), 360);\n",
       "\n",
       "                var rem = 100;\n",
       "                if (innerWidth >= 414) {\n",
       "                    rem = Math.floor(innerWidth / baseWidth * baseFontSize * 0.98);\n",
       "                } else {\n",
       "                    rem = Math.floor(innerWidth / baseWidth * baseFontSize);\n",
       "                }\n",
       "\n",
       "                document.querySelector('html').style.fontSize = rem + 'px';\n",
       "\n",
       "            }());\n",
       "        </script>\n",
       "<style type=\"text/css\">\n",
       "*{margin:0;padding:0}img{border:none}a{text-decoration:none}.fl{float:left}.fr{float:right}body{font-family:\"Microsoft Yahei\",\"Helvetica Neue\",Hiragino,Sans,GB,W3,Tahoma,Helvetica,Arial,\"\\5b8b\\4f53\",sans-serif;margin:0;padding:0;-webkit-text-size-adjust:100%!important}.none{display:none}input[type=number]::-webkit-inner-spin-button,input[type=number]::-webkit-outer-spin-button{-webkit-appearance:none;margin:0}.fb{font-weight:700}.cpm-mask{position:absolute;top:0;right:0;bottom:0;left:0;z-index:96;width:100%;height:100%;background-color:rgba(0,0,0,.7)}.cpm-dialog-mod{position:fixed;top:0;right:0;bottom:0;left:0;z-index:100;width:100%;height:100%;display:-webkit-box;display:-ms-flexbox;-webkit-box-orient:vertical;-webkit-box-pack:center;-webkit-box-align:center;-ms-flex-direction:column;-ms-flex-pack:center;-ms-flex-align:center}.cpm-dialog{position:relative;z-index:100;width:auto;min-width:170px;margin:2px 20px;background:rgba(0,0,0,.7);text-align:center;border-radius:5px;color:#fff}.cpm-dialog .i-delete:before,.cpm-dialog .icon-load{background:url(data:image/png;base64,iVBORw0KGgoAAAANSUhEUgAAAIAAAACgBAMAAAA2vHnOAAAAElBMVEX////////d3d27u7uZmZlmZmZIWkRRAAAAAXRSTlMAQObYZgAAAjlJREFUeF7t10Fu4zAMhWFNou4nNwh8ggC6gBY8QDe9/1VmNz8SRiafgghBYW4a1OKHR7mOq/Lxdbm8Bvy5XP6+GIAI64ADOG3XMVCth8C2bWPAzOIAGxEegWpmfQWwjQDLAtfnQM0AJQJKEWYAYIJ3A8wAkJ8AYHsGWBI47QE9C1w9ULNA2QNKEWYAYIIFADMAuAmEGwlgAnAaAV0BrgDSTWQTeLVltqC1wQzDCe65c2s3D1AeqPdea/fCcwDOTdQQAoB+DyCUE0/DY2T6PdAQCUAENHPAGSEo+klEhJxgBAgEoZ8hbhFQGSAQpH4v6P1sg7oBFBGiACM/C4wX5IAyrnMG6CUQ9q7TPxSi29jLh9ZRRxllNrG8AsSPil+OiBkHoH4B8PImvnwbP7SOOqpan7zMozL7eudgI1+nLANY0B8CY8GygI378cU16AQQFrl+VfC0LujvxqBfEsg1fehyppl27IPkmCkdPOkHlI6+9McAwiAgl9PHf7bIA/zc7aBYTTTMuFjcGZ3fKcDj3imAjQATgA7gYgkTAMAuAFgJoMxQ94AuTAAgzmB7gElbAEA0bQIA6LcDrAKQZqgR0IUJAOBSQB8B9b0ALcUDeNr/eQBcVAqAWg0cAK+2+UoFOOrr233W6ufHfVaB/xG+dIAurPkIUHoEpMkIQJMRcGYjEGAyAgFmIxBgMgIBJiMQYDbC9ypAH0HfxPW3kT+k5X/K/mFa/zjTCLTwK402qNVf6/qLRX+1fX79AxhZZ/jFSMPEAAAAAElFTkSuQmCCLyogIHx4R3YwMHxiYWU3ZjFjNWE0NzU5ZDAyYTkxOWM4YTgwNzk3MzZiMSAqLw==) no-repeat}.cpm-dialog-load .dialog-bd{padding:45px 0;font:14px/1.5 \"Microsoft YaHei\",Helvetica,sans-serif}.cpm-dialog-load .icon-load{display:inline-block;height:32px;width:32px;margin-bottom:20px;vertical-align:top;background-size:32px auto;-webkit-animation:dialogLoading 1s linear infinite}@-webkit-keyframes dialogLoading{0%{-webkit-transform:rotate(0)}100%{-webkit-transform:rotate(360deg)}}.cpm-dialog-modx{position:fixed;top:0;right:0;bottom:0;left:0;z-index:100;width:100%;height:100%;display:-webkit-box;display:-ms-flexbox}html{-ms-text-size-adjust:100%;-webkit-text-size-adjust:100%;font-size:100px}body{min-width:320px;font-family:'PingFang SC',tahoma,arial,'helvetica neue','hiragino sans gb','microsoft yahei',sans-serif;font-size:.14rem;line-height:1.6;color:#444;background-color:#fff;-webkit-text-size-adjust:100%!important;text-size-adjust:100%!important;-webkit-font-smoothing:antialiased}input,select,textarea{font-family:'PingFang SC',tahoma,arial,'helvetica neue','hiragino sans gb','microsoft yahei',sans-serif}*{margin:0;padding:0;-webkit-tap-highlight-color:transparent}img{border:0;vertical-align:top}a{color:#ff4f00;text-decoration:none;-webkit-tap-highlight-color:transparent;outline:0}ul{list-style:none}h1,h2,h3,h4{color:#444;font-weight:400}h1{font-size:.24rem}h2{font-size:.2rem}h3{font-size:.16rem}h4{font-size:.14rem}input[type=search]::-webkit-search-cancel-button,input[type=search]::-webkit-search-decoration,input[type=search]::-webkit-search-results-button,input[type=search]::-webkit-search-results-decoration{display:none}@font-face{font-family:DinC;src:url(data:applation/font;base64,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) format('truetype')}.DinC{font-family:DinC;color:#444}.ico-loading{display:inline-block;width:18px;height:18px;background:url(data:image/svg+xml;base64,PHN2ZyB4bWxucz0iaHR0cDovL3d3dy53My5vcmcvMjAwMC9zdmciIHdpZHRoPSIxMjAiIGhlaWdodD0iMTIwIiB2aWV3Qm94PSIwIDAgMTAwIDEwMCI+PHBhdGggZmlsbD0ibm9uZSIgZD0iTTAgMGgxMDB2MTAwSDB6Ii8+PHJlY3Qgd2lkdGg9IjciIGhlaWdodD0iMjAiIHg9IjQ2LjUiIHk9IjQwIiBmaWxsPSIjRTlFOUU5IiByeD0iNSIgcnk9IjUiIHRyYW5zZm9ybT0idHJhbnNsYXRlKDAgLTMwKSIvPjxyZWN0IHdpZHRoPSI3IiBoZWlnaHQ9IjIwIiB4PSI0Ni41IiB5PSI0MCIgZmlsbD0iIzk4OTY5NyIgcng9IjUiIHJ5PSI1IiB0cmFuc2Zvcm09InJvdGF0ZSgzMCAxMDUuOTggNjUpIi8+PHJlY3Qgd2lkdGg9IjciIGhlaWdodD0iMjAiIHg9IjQ2LjUiIHk9IjQwIiBmaWxsPSIjOUI5OTlBIiByeD0iNSIgcnk9IjUiIHRyYW5zZm9ybT0icm90YXRlKDYwIDc1Ljk4IDY1KSIvPjxyZWN0IHdpZHRoPSI3IiBoZWlnaHQ9IjIwIiB4PSI0Ni41IiB5PSI0MCIgZmlsbD0iI0EzQTFBMiIgcng9IjUiIHJ5PSI1IiB0cmFuc2Zvcm09InJvdGF0ZSg5MCA2NSA2NSkiLz48cmVjdCB3aWR0aD0iNyIgaGVpZ2h0PSIyMCIgeD0iNDYuNSIgeT0iNDAiIGZpbGw9IiNBQkE5QUEiIHJ4PSI1IiByeT0iNSIgdHJhbnNmb3JtPSJyb3RhdGUoMTIwIDU4LjY2IDY1KSIvPjxyZWN0IHdpZHRoPSI3IiBoZWlnaHQ9IjIwIiB4PSI0Ni41IiB5PSI0MCIgZmlsbD0iI0IyQjJCMiIgcng9IjUiIHJ5PSI1IiB0cmFuc2Zvcm09InJvdGF0ZSgxNTAgNTQuMDIgNjUpIi8+PHJlY3Qgd2lkdGg9IjciIGhlaWdodD0iMjAiIHg9IjQ2LjUiIHk9IjQwIiBmaWxsPSIjQkFCOEI5IiByeD0iNSIgcnk9IjUiIHRyYW5zZm9ybT0icm90YXRlKDE4MCA1MCA2NSkiLz48cmVjdCB3aWR0aD0iNyIgaGVpZ2h0PSIyMCIgeD0iNDYuNSIgeT0iNDAiIGZpbGw9IiNDMkMwQzEiIHJ4PSI1IiByeT0iNSIgdHJhbnNmb3JtPSJyb3RhdGUoLTE1MCA0NS45OCA2NSkiLz48cmVjdCB3aWR0aD0iNyIgaGVpZ2h0PSIyMCIgeD0iNDYuNSIgeT0iNDAiIGZpbGw9IiNDQkNCQ0IiIHJ4PSI1IiByeT0iNSIgdHJhbnNmb3JtPSJyb3RhdGUoLTEyMCA0MS4zNCA2NSkiLz48cmVjdCB3aWR0aD0iNyIgaGVpZ2h0PSIyMCIgeD0iNDYuNSIgeT0iNDAiIGZpbGw9IiNEMkQyRDIiIHJ4PSI1IiByeT0iNSIgdHJhbnNmb3JtPSJyb3RhdGUoLTkwIDM1IDY1KSIvPjxyZWN0IHdpZHRoPSI3IiBoZWlnaHQ9IjIwIiB4PSI0Ni41IiB5PSI0MCIgZmlsbD0iI0RBREFEQSIgcng9IjUiIHJ5PSI1IiB0cmFuc2Zvcm09InJvdGF0ZSgtNjAgMjQuMDIgNjUpIi8+PHJlY3Qgd2lkdGg9IjciIGhlaWdodD0iMjAiIHg9IjQ2LjUiIHk9IjQwIiBmaWxsPSIjRTJFMkUyIiByeD0iNSIgcnk9IjUiIHRyYW5zZm9ybT0icm90YXRlKC0zMCAtNS45OCA2NSkiLz48L3N2Zz4=) no-repeat;background-size:100% 100%;vertical-align:-4px;-webkit-animation:a-comm-rotate 1s steps(12,end) infinite;animation:a-comm-rotate 1s steps(12,end) infinite}@-webkit-keyframes a-comm-rotate{0%{-webkit-transform:rotate(0);transform:rotate(0)}100%{-webkit-transform:rotate(360deg);transform:rotate(360deg)}}@keyframes a-comm-rotate{0%{-webkit-transform:rotate(0);transform:rotate(0)}100%{-webkit-transform:rotate(360deg);transform:rotate(360deg)}}.arr-down{display:inline-block;height:.08rem;width:.08rem;border-width:1px 1px 0 0;border-color:#ff4f00;border-style:solid;-webkit-transform:matrix(-.71,.71,-.71,-.71,0,0);transform:matrix(-.71,.71,-.71,-.71,0,0);position:relative;top:-.02rem;top:-.03rem;border-color:rgba(68,68,68,.5)}.loadmore{margin-top:.2rem;text-align:center;line-height:.5rem;color:rgba(68,68,68,.5);position:relative}.loadmore:before{content:\" \";position:absolute;left:.15rem;right:.15rem;top:0;width:auto;height:1px;border-top:1px solid #e0e0e0;color:#e0e0e0;-webkit-transform-origin:0 0;transform-origin:0 0;-webkit-transform:scaleY(.5);transform:scaleY(.5)}.loadmore:active{background-color:rgba(0,0,0,.02)}header{position:relative;height:1.68rem;color:#fff;overflow:hidden}.h-ball1,.h-ball2,.h-ball3,.h-ball4{position:absolute;border-radius:100%}.h-ball1{right:-.3rem;bottom:.04rem;width:1rem;height:1rem;background:#01b3fc;-webkit-animation:a-hball1 2s ease-in-out infinite alternate;animation:a-hball1 2s ease-in-out infinite alternate}.h-ball2{left:50%;bottom:2px;width:188.8%;height:0;padding-top:188.8%;background:#ff4f00;-webkit-transform:translate(-50%,0);transform:translate(-50%,0);-webkit-animation:a-hball2 2s ease-in-out .1s infinite alternate;animation:a-hball2 2s ease-in-out .1s infinite alternate}.h-ball3{top:-.3rem;right:-1.19rem;width:1.76rem;height:1.76rem;background:#ffe762;opacity:.95;-webkit-animation:a-hball3 3s ease-in-out infinite alternate;animation:a-hball3 3s ease-in-out infinite alternate}.h-ball4{bottom:2px;left:.15rem;width:.24rem;height:.24rem;background:#ac64e1;-webkit-animation:a-hball4 2.5s ease-in-out infinite alternate;animation:a-hball4 2.5s ease-in-out infinite alternate}.h-shape1,.h-shape2,.h-shape3,.h-shape4,.h-shape5{position:absolute;background-size:100% 100%;-webkit-animation:a-comm-rotate 8s linear infinite;animation:a-comm-rotate 8s linear infinite}.h-shape1{width:.19rem;height:.19rem;left:1%;top:.7rem;background-image:url(data:image/png;base64,iVBORw0KGgoAAAANSUhEUgAAACYAAAAmCAMAAACf4xmcAAAAaVBMVEUAAAD/+Xj/4mD/4F7/5GH/52L/62r/4F3/4F3/4V7/4l//4F3/4F7/4F3/4V7/4F7/4l//4F3/4F3/4F7/4F3/4F//42H/313/4F7/4F7/4F7/4F7/4F7/4F7/4V//4F3/317/4V7/311cYUDcAAAAInRSTlMABC/wGhEL+uZuPPXPwFRKNdjIpZ10JZmRiX24lmBE37FkX0pTfAAAAUhJREFUOMuFk1m2gjAQRDNAgIgIKCogqLX/Rb5HOoaZ3M86lU6PbJfwUbSa+eAlgEj4bAkGnh5XKI3t5rG9YLgcu0RkXOeJlGu+sp1hEGMSJRB/F8YMy8weRkj1rBlvI8pglAoQ14nWkFTNsyBOjbJScDJCMc1EDxoRZyTdtpqRp3Cc8yEYDO1yel0MgvLpge1xqjpyPsGCaHea9w8sCWMVgFKxTXrbmaEMkWR8d8ESOUThzEdYXStl32jB/IgYSPsDgzKfUis/970oKWTy/zuIqFabycU0JC7d/LoN2/O3ZQkcpV71OHLXlA1xVytGtCTnppRm3JzTbFcu9vFv667OJyeV8IKejl9ot2L58szRTOf3tSkGyzN/83mLzIq9lheGbFV+fevGpwL2zI9xZ37InVwPTzBN/Qk9NiXpDnxcJNXtg+cB2+cPdacyluur7REAAAAASUVORK5CYII=);-webkit-animation-duration:10s;animation-duration:10s}.h-shape2{width:.15rem;height:.15rem;left:65%;top:.1rem;background-image:url(data:image/png;base64,iVBORw0KGgoAAAANSUhEUgAAAB4AAAAeCAMAAAAM7l6QAAAAb1BMVEUAAADpMSbsMynsMynqMSbqMSf/RETqMSbqMSbqMibqMSbqMSbqMifsNSv0OTDqMSbqMSfqMSbqMSbrMifsMifsNSrqMSfqMSbqMSbqMSbqMifqMibrMifrMijzNinrMyfrMifsMibvNSnqMijpMSZGVoCzAAAAJHRSTlMA9zoszFQF2cSzqaBHGgzyv7mPYk0k7ejh0peBcTIUe1tCH2xxk7GUAAABDElEQVQoz52S6ZaDMAiFsZpoXaJVW2tduozv/4wDQjpx+zP3HCPhiyd4Af6prDodw8/DmyZ1AK+JN6HiXegTJEV7MJ6s2g0czoLu+DQreLKwVQZXbwkvAgMqme7Xf/BdWFgDqcEwszCNBEapZELc+BzWgcDiDVZ0fvbNbwVeXBupSrpG3xielx4nmKrIe6YlLFVirudzXPHy6w5T3Ry97nwgzhz8g4kHh6bjJuRP88Uvt2WfWKxWXyfoVxxLA/FlkD2VA46qhg8k4zwSGIXgypRSQo+9GDG4radIOhrWoOkNa6WhGOznuJoN1z2b7NFFV9hqxCEWDfuzWghOYV+KS1BwIP3MeVyOlJVFBb+sWib9X15zlQAAAABJRU5ErkJggg==);-webkit-animation-duration:15s;animation-duration:15s}.h-shape3{width:.36rem;height:.36rem;left:72%;top:-.2rem;background-image:url(data:image/png;base64,iVBORw0KGgoAAAANSUhEUgAAAEgAAABIBAMAAACnw650AAAAG1BMVEUAAAD////////////////////////////////rTT7CAAAACXRSTlMATRFHGT0IMyC8ryD8AAABJElEQVRIx6XWQQqCQBTG8UeorceyWhaeIInWtmuZN0i8QB0h6OANDfTAP34IzUKG975+iQ74bLyK6/tuplfWhVC1OlPETExpqw7f1ajM4phCq72GnNIQKUKkCG2fkqpTN2UbBZ1+YXFHsScob5EiRIqQohwiRYgUIUF5kRQhQXkJFCH+TkFOERIUIVIOCYoQKUKkfKuoYQSBOsddN4JAVWYZIFCt5YBA3awHBGpjl3gtbXIdYnttr3h9TIeWsb2bFZr3dz3PMm88D6D4CLIAig/TOlB8LTaQ4gtOu1IcFd/qQ0eKEClCpAgJyiFShFggBEpBXiJESkEsEiJFiGWHFEWIFCFShEg5pChCpAQkPvlqeJAUIVKE9GikqebvcU0PfnqE/ABUe1Q3KMc1nAAAAABJRU5ErkJggg==);-webkit-animation-duration:9s;animation-duration:9s}.h-shape4{width:.72rem;height:.72rem;left:20%;top:-.4rem;box-shadow:0 0 0 .06rem rgba(255,255,255,.1) inset;border-radius:100%;-webkit-animation:a-hball4 6s ease-in-out infinite alternate;animation:a-hball4 6s ease-in-out infinite alternate}.h-shape5{width:.12rem;height:.12rem;left:21%;top:1.2rem;opacity:.5;background-image:url(data:image/png;base64,iVBORw0KGgoAAAANSUhEUgAAACYAAAAmCAMAAACf4xmcAAAAaVBMVEUAAAD/+Xj/4mD/4F7/5GH/52L/62r/4F3/4F3/4V7/4l//4F3/4F7/4F3/4V7/4F7/4l//4F3/4F3/4F7/4F3/4F//42H/313/4F7/4F7/4F7/4F7/4F7/4F7/4V//4F3/317/4V7/311cYUDcAAAAInRSTlMABC/wGhEL+uZuPPXPwFRKNdjIpZ10JZmRiX24lmBE37FkX0pTfAAAAUhJREFUOMuFk1m2gjAQRDNAgIgIKCogqLX/Rb5HOoaZ3M86lU6PbJfwUbSa+eAlgEj4bAkGnh5XKI3t5rG9YLgcu0RkXOeJlGu+sp1hEGMSJRB/F8YMy8weRkj1rBlvI8pglAoQ14nWkFTNsyBOjbJScDJCMc1EDxoRZyTdtpqRp3Cc8yEYDO1yel0MgvLpge1xqjpyPsGCaHea9w8sCWMVgFKxTXrbmaEMkWR8d8ESOUThzEdYXStl32jB/IgYSPsDgzKfUis/970oKWTy/zuIqFabycU0JC7d/LoN2/O3ZQkcpV71OHLXlA1xVytGtCTnppRm3JzTbFcu9vFv667OJyeV8IKejl9ot2L58szRTOf3tSkGyzN/83mLzIq9lheGbFV+fevGpwL2zI9xZ37InVwPTzBN/Qk9NiXpDnxcJNXtg+cB2+cPdacyluur7REAAAAASUVORK5CYII=);-webkit-animation-duration:8s;animation-duration:8s}.surprise-logo{position:absolute;top:.18rem;left:50%;font-size:.26rem;font-weight:700;line-height:1;color:#fff;-webkit-transform:translateX(-50%);transform:translateX(-50%)}.surprise-head-desc{position:absolute;top:.72rem;left:0;width:100%;text-align:center}.brand-logo{position:absolute;left:.18rem;top:.18rem;display:-webkit-box;display:-webkit-flex;display:flex;-webkit-box-align:center;-webkit-align-items:center;align-items:center;-webkit-box-pack:center;-webkit-justify-content:center;justify-content:center;width:.74rem;height:.24rem;border-radius:.24rem;border:1px solid #fff}.brand-logo img{width:.52rem;height:.13rem}.surprise-prompt{position:absolute;top:.06rem;right:.02rem;display:block;width:.5rem;height:.5rem;background:url(data:image/png;base64,iVBORw0KGgoAAAANSUhEUgAAADAAAAAwCAMAAABg3Am1AAAAVFBMVEUAAAB8VRd8VRaHYB6KYid8VRd8VBZ8VRd8VRd9Vhh+VhmIWyR+VRd9VRiBWCB8VRd+Vxl7WBp8Vxd9VRiAWRqAWiB8Vhh8VRd9VReAWBiAVRp8VBcR5gswAAAAHHRSTlMAzMQSBqKUsYtkRg5WcRu9TzpcPyggc8CTQDySZEGT4AAAAU1JREFUSMeVlutygkAMhXOyN3YBURGk+v7v2RnaOtYE2Hw/A2cIuZPAlf6ZBuYhLXNxdEDbBfwjdHsa1zPAMY+T895NY44McL8puTIQi383+RIBvnpSOAWguUn7rQHCSdofd6QLqVwS+OvTeAaadjMUDXAW72faIX8oHkBHu3TAm1enOzIdkMGvP/cBDR3SIPi/+CO1x4I24fqbX8ZFZuXsRHTBP7Zecai9IyhO9eszxk1+ABhkzsHtGrCohXFR0h7X4AcUqqQgEDmwrxV4hqOieIQVRRFRaEauF2TMtGAkDVUwYqGEqV4wIdEAVy9wGIjh6wUebBaYXbL/9NMa1nmjOzcTVxDrBRFls/gAvfg2yxtQy1tvILwQDSRaVAhki65DoIoGvRgzAjFmzIPMPirtw9g+7u0Lxb6y7EvRvnbti91+OtiPE3n+RO38+Qatjw2PhxWv4QAAAABJRU5ErkJggg==) center center no-repeat;background-size:.24rem .24rem;text-indent:-200px;overflow:hidden}.mod-tab{margin-top:.1rem;height:50px}.tab-nav-wrap{width:100%;height:50px;box-sizing:border-box;padding:10px .15rem;background-color:rgba(255,255,255,.95);-webkit-backdrop-filter:blur(20px);backdrop-filter:blur(20px)}.tab-nav-wrap.fixed{position:fixed;top:0;left:0;z-index:10;box-shadow:0 0 20px 0 rgba(0,0,0,.1)}.tab-nav{display:-webkit-box;display:-webkit-flex;display:flex;border:1px solid #ff3900;border-radius:.03rem}.tab-nav-item{display:block;-webkit-box-flex:1;-webkit-flex:1;flex:1;text-align:center;color:#ff3900;line-height:28px;font-size:14px;-webkit-transition:.3s;transition:.3s}.tab-nav-item.active{background-color:#ff3900;color:#fff}.tab-nav-item:not(:first-child){border-left:1px solid #ff3900}.tab-body-item{display:none}.tab-body-item.active{display:block}.mod-topcont{padding:.05rem .15rem .1rem .15rem}.mod-search{display:-webkit-box;display:-webkit-flex;display:flex;-webkit-box-align:center;-webkit-align-items:center;align-items:center;padding:.15rem .15rem .2rem .15rem}.search-bar{-webkit-box-flex:1;-webkit-flex:1;flex:1;position:relative;height:.32rem;background:#e6e9ee url(data:image/png;base64,iVBORw0KGgoAAAANSUhEUgAAACAAAAAgBAMAAACBVGfHAAAAJ1BMVEUAAABGRkZFRUVFRUVXV1dUVFRFRUVHR0dLS0tGRkZHR0dISEhISEjSi0Y9AAAADXRSTlMAf3VhCA5rSxlBRCcgkNrYsgAAAKxJREFUKM9jAIFOI0HlGQwIcFgQBGzgfHZB9a0M0UWCBVA+i6GUA4haKOwAEWAWagDTHIoGEIFCVajSIHEwxSPYABXgEDwA1iEFN30hWE+jClzASQJETixA2C8JIg03wAW4hUGkYgBcgFUIRAoi+UEQQwBDC4ahGNZiOAzD6RieQ/c+egClogWhmFgAaiCXJKaiRYMbRAkiolggShAAogQBiFSSgq5kApoACwMAgtwj4JdOEfYAAAAASUVORK5CYII=) .15rem center no-repeat;background-size:.16rem .16rem;border-radius:.32rem}.search-input{position:absolute;left:0;top:0;width:100%;height:100%;padding:0 .1rem 0 .4rem;box-sizing:border-box;line-height:normal;font-size:12px;background-color:transparent;border:0 none;outline:0}.search-filter{position:relative;width:.34rem;height:.3rem;background:url(data:image/png;base64,iVBORw0KGgoAAAANSUhEUgAAACQAAAAmCAMAAACbFsmhAAAAM1BMVEUAAABFRUVGRkZFRUVFRUVHR0dFRUVFRUVGRkZERERFRUVHR0dFRUVFRUVERERERERERERK/DcGAAAAEHRSTlMAxD3xfw7maSmvURrX1pmXQ65rUAAAAKpJREFUOMvtkskOxCAMQ1nb0tX//7UjzyIUWShz6qk+NCl6oGATGly1sGWPyVsIM6YahqoTZtaIcwydiO+6AGnEJGD5dAX7CNpRfu3RW6uCQw41kkEujqeKuOSiVmrOSsusaPNqVxoaiy7pNjncGUDH1HSYh2uKWtfT0Ty6ejo9DzdyfRiaDvNwnqHaIQayGGNVwPf7QLdB9R8ol+pBKRIj5GKEfIyQj9n/F2iqDZHISX3RAAAAAElFTkSuQmCC) right center no-repeat;background-size:.18rem .19rem;z-index:99}.search-filter-list{position:absolute;right:0;top:.36rem;padding:.1rem 0;background-color:#fff;box-shadow:0 .05rem .16rem 0 rgba(160,160,198,.5);border-radius:.08rem;opacity:0;-webkit-transform-origin:right top;transform-origin:right top;-webkit-transform:scale(.5);transform:scale(.5);-webkit-transition:all .3s;transition:all .3s;visibility:hidden}.search-filter-list.show{opacity:1;-webkit-transform:scale(1);transform:scale(1);visibility:visible}.search-filter-link{display:block;line-height:1;color:#444;padding:.15rem;white-space:nowrap}.search-filter-link:active{background-color:rgba(0,0,0,.02)}.mod-surprise-data{margin-top:.1rem;overflow:hidden}.surprise-data-block{float:left;font-size:.12rem;color:rgba(68,68,68,.5)}.surprise-data-block:not(:first-child){margin-left:20%}.surprise-data{line-height:1.2;color:#444}.surprise-data .DinC{font-size:.24rem}.head-real-data{position:absolute;display:-webkit-box;display:-webkit-flex;display:flex;top:.72rem;left:50%;overflow:hidden;-webkit-transform:translateX(-45.5%);transform:translateX(-45.5%)}.real-data-block{float:left;width:1.14rem;font-size:.12rem;color:#fff}.real-data-block:last-child{-webkit-transform:translatex(-.05rem);transform:translatex(-.05rem)}.real-data{line-height:1.2}.real-data .DinC{font-size:.24rem;color:#fff}.enterprise-info{margin-top:.12rem}.enterprise-logo{margin-right:.03rem;height:.24rem;vertical-align:-.05rem}.enterprise-item{padding:0 .05rem}.mod-preinfo{margin-top:.15rem;padding:.2rem .15rem;color:rgba(68,68,68,.5);font-size:.12rem;position:relative}.mod-preinfo:before{content:\" \";position:absolute;left:.15rem;right:.15rem;top:0;width:auto;height:1px;border-top:1px solid #e0e0e0;color:#e0e0e0;-webkit-transform-origin:0 0;transform-origin:0 0;-webkit-transform:scaleY(.5);transform:scaleY(.5)}.logo-avatar{width:.7rem;height:.7rem;background-color:#fff;border-radius:100%}.logo-avatar img{width:100%;height:100%;border-radius:100%;box-shadow:0 0 0 1px rgba(0,0,0,.08)}.board-title{margin-top:.18rem;padding:0 .15rem}.media{display:-webkit-box;display:-webkit-flex;display:flex;-webkit-box-align:start;-webkit-align-items:flex-start;align-items:flex-start;padding:0 .15rem}.media-item:not(:first-child){margin-top:.2rem}.media-cover{position:relative;margin-right:.12rem;-webkit-transform:translateZ(0);transform:translateZ(0)}.media-info{-webkit-box-flex:1;-webkit-flex:1;flex:1;color:rgba(68,68,68,.5)}.media-desc{min-height:.43rem;overflow:hidden;text-overflow:ellipsis;display:-webkit-box;-webkit-box-orient:vertical;-webkit-line-clamp:2}.media-data{font-size:.12rem}.media-rank1,.media-rank2,.media-rank3{position:absolute;right:0;bottom:0;width:18px;height:18px;line-height:18px;font-size:12px;font-weight:700;text-align:center;border-style:solid;border-width:3px;border-radius:100%}.media-rank1{background-color:#ffc81b;border-color:#ffde76;color:#ffde76}.media-rank2{background-color:#bdbed3;border-color:#d9dbdb;color:#d9dbdb}.media-rank3{background-color:#e5aa5f;border-color:#f6d7ad;color:#f6d7ad}.media-proj{-webkit-box-align:start;-webkit-align-items:flex-start;align-items:flex-start}.proj-cover{background-color:#eee;border-radius:.06rem;overflow:hidden}.proj-cover img{width:1.44rem;height:1.08rem}.proj-rank{margin-bottom:.05rem;color:rgba(68,68,68,.5)}.proj-rank .DinC{color:#ff3900}.proj-data{margin-top:.2rem}.proj-match{font-size:.12rem}.proj-get-match{position:absolute;bottom:0;left:0;width:100%;line-height:.34rem;padding-left:.1rem;box-sizing:border-box;font-size:.12rem;color:#fff;background-color:#ffcd03}.proj-get-match:after{content:'';display:block;position:absolute;right:.06rem;top:50%;margin-top:-.09rem;width:.18rem;height:.18rem;background:url(data:image/png;base64,iVBORw0KGgoAAAANSUhEUgAAACQAAAAkCAMAAADW3miqAAAAclBMVEUAAAD///////////////////////////////////////////////////////////////////////////////////////////////////////////////////////////////////////////////////9eWEHEAAAAJXRSTlMAzQjY+hTtvQOZaEQiWcWl0D703l0xKg3n5bSmioh5eFFONyEarSmTIgAAARtJREFUOMuVlOmWgyAMhYOiUoowdp19z/u/4lTAlAlYTu+vcvp5ktwskMpoJ3ope+G0gaLUaDGRHVXObFtkarcMaTZY0KZJmU5gUaJLGAqVhSSqEbgqsUSkfIp5xbrwpnyNai2hj2nwac1+jSuMXv4bAcAWEXmgiiyAKTOfcNFLeBjQJWbns32nwK7A9NPMfC1PB6LAHGfmtCNDoY+/HsjSp5Nv1f76EcjIdDAFw/Y/3r0hqQLkwgA0b5dH+5u1SsZwQ+jjUcTh0P9yDIkTpc6hnTKFBDgkimRiNWSBxow6t7yLBjmlnplvBsBy6pUxlkblSh2QaaShI+pb8l1QfHwH85iPb+5utgj3rFR9OetrXj8Y9dNz7xGrn8M/d3137ZRDXvwAAAAASUVORK5CYII=);background-size:100% 100%}.nporank-data,.yqjrank-data{margin-top:.05rem}.match-rule-wrap{position:fixed;left:0;top:0;width:100%;height:100%;background-color:rgba(0,0,0,.8);visibility:hidden;pointer-events:none;z-index:200}.match-rule-wrap.show{visibility:visible;pointer-events:auto}.match-rule-wrap.show .match-rule-dialog{opacity:1;-webkit-transform:translateY(0);transform:translateY(0);-webkit-transition:.4s ease;transition:.4s ease}.match-rule-dialog{position:fixed;left:50%;top:50%;width:3rem;height:3.8rem;margin:-2rem 0 0 -1.5rem;background-color:#fff;border-radius:.04rem;opacity:0;-webkit-transform:translateY(-.2rem);transform:translateY(-.2rem);z-index:200}.match-rule-close{display:block;position:absolute;right:0;top:0;width:.4rem;height:.4rem;background:url(data:image/png;base64,iVBORw0KGgoAAAANSUhEUgAAABgAAAAYBAMAAAASWSDLAAAAD1BMVEUAAACwsLCwsLCwsLCwsLCp/6SWAAAABXRSTlMApRDHibQnNvsAAABWSURBVBjTVZDBCcAwDANF6QTpAskI3aD7T1UQ58cZYhNdcCwnO8SV3CvE+XLeDXhWT6NqUwEZQEFqRQENKCoYVDAI4IufuQGt/anG8aCyIHOyrYVoVT+aBwx9sNYOKAAAAABJRU5ErkJggg==) center center no-repeat;background-size:.12rem;z-index:1}.match-rule-cont{padding:.3rem .15rem 0 .15rem}.match-rule-title{margin-bottom:.15rem;text-align:center;font-weight:700;font-size:.18rem}.match-rule-ol{margin-left:.18rem}.match-rule-ol li{margin-top:.1rem;color:#666}@-webkit-keyframes a-hball1{0%{-webkit-transform:translate(0,0);transform:translate(0,0)}100%{-webkit-transform:translate(.05rem,-.05rem);transform:translate(.05rem,-.05rem)}}@keyframes a-hball1{0%{-webkit-transform:translate(0,0);transform:translate(0,0)}100%{-webkit-transform:translate(.05rem,-.05rem);transform:translate(.05rem,-.05rem)}}@-webkit-keyframes a-hball2{0%{-webkit-transform:translate(-50%,0);transform:translate(-50%,0)}100%{-webkit-transform:translate(-50%,-.05rem);transform:translate(-50%,-.05rem)}}@keyframes a-hball2{0%{-webkit-transform:translate(-50%,0);transform:translate(-50%,0)}100%{-webkit-transform:translate(-50%,-.05rem);transform:translate(-50%,-.05rem)}}@-webkit-keyframes a-hball3{0%{-webkit-transform:translate(0,0);transform:translate(0,0)}100%{-webkit-transform:translate(-.1rem,-.1rem);transform:translate(-.1rem,-.1rem)}}@keyframes a-hball3{0%{-webkit-transform:translate(0,0);transform:translate(0,0)}100%{-webkit-transform:translate(-.1rem,-.1rem);transform:translate(-.1rem,-.1rem)}}@-webkit-keyframes a-hball4{0%{-webkit-transform:translateY(0);transform:translateY(0)}100%{-webkit-transform:translateY(-.1rem);transform:translateY(-.1rem)}}@keyframes a-hball4{0%{-webkit-transform:translateY(0);transform:translateY(0)}100%{-webkit-transform:translateY(-.1rem);transform:translateY(-.1rem)}}@media screen and (max-width:359px){.proj-cover img{width:1.2rem;height:.9rem}.proj-name{margin-top:0}.proj-data{margin-top:.1rem}.real-data-block{width:1.05rem}.real-data-block:last-child{-webkit-transform:translateX(-.1rem);transform:translateX(-.1rem)}.real-data .DinC{font-size:.2rem}}\n",
       "</style>\n",
       "</head>\n",
       "<body ontouchstart=\"\">\n",
       "<div id=\"pageContainer\">\n",
       "<header>\n",
       "<div class=\"h-ball1\"></div>\n",
       "<div class=\"h-ball2\"></div>\n",
       "<div class=\"h-ball3\"></div>\n",
       "<div class=\"h-ball4\"></div>\n",
       "<div class=\"h-shape1\"></div>\n",
       "<div class=\"h-shape2\"></div>\n",
       "<div class=\"h-shape3\"></div>\n",
       "<div class=\"h-shape4\"></div>\n",
       "<div class=\"h-shape5\"></div>、\n",
       "                <h1 class=\"surprise-logo\">99实时战报</h1>\n",
       "<div class=\"head-real-data\">\n",
       "<div class=\"real-data-block\">\n",
       "<div class=\"real-data\"><b class=\"DinC j-data-num\" data-num=\"29999\" id=\"dNum1\">0</b> 万元</div>\n",
       "<p>腾讯基金会助力</p>\n",
       "</div>\n",
       "<div class=\"real-data-block\">\n",
       "<div class=\"real-data\"><b class=\"DinC j-data-num\" data-num=\"29999\" id=\"dNum2\">0</b> 万元</div>\n",
       "<p>已配捐善款</p>\n",
       "</div>\n",
       "<div class=\"real-data-block\">\n",
       "<div class=\"real-data\"><b class=\"DinC j-data-num\" data-num=\"6239\" id=\"dNum3\">0</b> 个</div>\n",
       "<p>共捐助项目</p>\n",
       "</div>\n",
       "</div>\n",
       "<div class=\"brand-logo\"><img src=\"//mat1.gtimg.com/gongyi/m/99/2017/head_logo_mini_wt.png\"/></div>\n",
       "</header>\n",
       "<h1 class=\"board-title\">9月9日榜单</h1>\n",
       "<div class=\"mod-tab j-mod-tab\">\n",
       "<div class=\"tab-nav-wrap j-tab-wrap\">\n",
       "<ul class=\"tab-nav j-tabHd\">\n",
       "<li class=\"tab-nav-item\" data-idx=\"0\">项目排行</li>\n",
       "<li class=\"tab-nav-item\" data-idx=\"1\">机构排行</li>\n",
       "<li class=\"tab-nav-item\" data-idx=\"2\">一起捐排行</li>\n",
       "</ul>\n",
       "</div>\n",
       "</div>\n",
       "<div class=\"tab-body j-tabBd\">\n",
       "<div class=\"tab-body-item active\">\n",
       "<div class=\"mod-search\" style=\"display: none;\">\n",
       "<div class=\"search-bar\">\n",
       "<form id=\"fm-sear\">\n",
       "<input class=\"search-input\" placeholder=\"输入完整项目名称查看项目排名\" type=\"text\"/>\n",
       "</form>\n",
       "</div>\n",
       "<div class=\"search-filter j-filter\">\n",
       "<ul class=\"search-filter-list j-filter-list\">\n",
       "<!-- <li  class=\"mnu-itm-1\" data-idx=\"1\"><a class=\"search-filter-link\" href=\"javascript:;\">按热度排行</a></li> -->\n",
       "<li class=\"mnu-itm-1\" data-idx=\"1\"><a class=\"search-filter-link\" href=\"javascript:;\">按金额排行</a></li>\n",
       "<li class=\"mnu-itm-1\" data-idx=\"2\"><a class=\"search-filter-link\" href=\"javascript:;\">按人数排行</a></li>\n",
       "<li class=\"mnu-itm-2\" data-idx=\"1\"><a class=\"search-filter-link\" href=\"javascript:;\">按捐赠金额</a></li>\n",
       "<li class=\"mnu-itm-2\" data-idx=\"2\"><a class=\"search-filter-link\" href=\"javascript:;\">按捐赠人次</a></li>\n",
       "<li class=\"mnu-itm-3\" data-idx=\"1\"><a class=\"search-filter-link\" href=\"javascript:;\">个人一起捐</a></li>\n",
       "<li class=\"mnu-itm-3\" data-idx=\"2\"><a class=\"search-filter-link\" href=\"javascript:;\">团体一起捐</a></li>\n",
       "<li class=\"mnu-itm-3\" data-idx=\"3\"><a class=\"search-filter-link\" href=\"javascript:;\">企业一起捐</a></li>\n",
       "</ul>\n",
       "</div>\n",
       "</div>\n",
       "<ul class=\"j-sear-rslt-cont proj-list\" style=\"margin-top:10px;\"></ul>\n",
       "<!-- <ul class=\"\"></ul>\n",
       "                    <ul class=\"\"></ul> -->\n",
       "<div class=\"loadmore j-loadmore\" is_loading=\"1\">正在加载 <i class=\"ico-loading\"></i></div>\n",
       "<!-- <div class=\"loadmore j-loadmore\">加载更多项目&nbsp;&nbsp;<i class=\"arr-down\"></i></div> -->\n",
       "</div>\n",
       "</div>\n",
       "</div>\n",
       "<script id=\"tpl_match99_realtime_rslt\" type=\"text/html\">\n",
       "            <%if(!$DATA.list || !$DATA.list.length){%>\n",
       "                <%if(!!_k_){%>\n",
       "                <a class=\"media\" style=\"color:inherit\"><li class=\"media-item\">未搜索到该<%if(_t_==1){%>项目<%}else if(_t_==2){%>机构<%}else{%>一起捐<%}%></li></a>\n",
       "                <a class=\"media\" style=\"color:inherit\"><li class=\"media-item\"><%=_sear_hint_%></li></a>\n",
       "                <%}else{%>\n",
       "                <a class=\"media\" style=\"color:inherit\"><li class=\"media-item\" style=\"text-align:center;\">暂无数据~</li></a>\n",
       "                <%}%>\n",
       "            <%}else{%>\n",
       "                <%if(_t_==3){%>\n",
       "                        <%for(var i=0,it,il=list.length;i < il;i++){it=list[i]; it.logo=((it.logo && 'null'!=it.logo)?(decodeURIComponent(it.logo)):'');(!!_k_ && (it.rk+=1));%>\n",
       "                <li class=\"media-item\">\n",
       "                    <a class=\"media\" href=\"/m/weixin/<%if(it.type=='COMPANY'){%>yqj_main.html<%}else{%>detail_yqj.htm<%}%>?id=<%=it.actid%>&did=<%=it.id%>&gt=<%=$G.ETAG%>&et=<%=$G.GTAG%>&ADTAG=<%=$G.ADTAG%>\">\n",
       "                        <div class=\"media-cover\">\n",
       "                            <div class=\"logo-avatar\"><img pre=\"1\" src=\"<%=(it.logo || ('//mat1.gtimg.com/gongyi/m/wx/yqj_201699/'+('PSNL'==it.type?'yqj_c_head.jpg':'team_head.png')))%>\" error-img=\"//mat1.gtimg.com/gongyi/201799/icons/null_ngo.png\"></div>\n",
       "                            <%if(it.rk && it.rk<4){%><span class=\"media-rank<%=((it.rk && it.rk<=3)?it.rk:'')%>\"><%=(it.rk-0 || '')%></span><%}%>\n",
       "                        </div>\n",
       "                        <div class=\"media-info\">\n",
       "                            <%if(it.rk){%><p class=\"proj-rank\">第&nbsp;<b class=\"DinC\"><%=it.rk%></b>&nbsp;名</p><%}%>\n",
       "                            <h4><b><%=(decodeURIComponent(it.title) || '爱心企业')%></b></h4>\n",
       "                            <p class=\"media-desc\"><%=decodeURIComponent(it.desc || '')%></p>\n",
       "                            <div class=\"media-data yqjrank-data\">携手&nbsp;<span class=\"DinC\"><%=$G.Util.number.format(it.tms || 0)%></span>&nbsp;人&nbsp;&nbsp;&nbsp;&nbsp;9月9日筹得&nbsp;<span class=\"DinC\"><%=$G.Util.number.format((it.mn/100).toFixed(0))%></span>&nbsp;元</div>\n",
       "                        </div>\n",
       "                    </a>\n",
       "                </li>\n",
       "                        <%}%>\n",
       "                <%}else if(_t_==2){%>\n",
       "                        <%for(var i=0,it,il=list.length;i < il && (it=list[i]);i++){ (!!_k_ && (it.rk+=1));%>\n",
       "                <li class=\"media-item\">\n",
       "                    <a class=\"media\" href=\"<%if(it.uin){%>//ssl.gongyi.qq.com/npo/index.html?id=<%=it.uin%>&gt=<%=$G.ETAG%>&et=<%=$G.GTAG%>&ADTAG=<%=$G.ADTAG%><%}else{%>javascript://<%}%>\">\n",
       "                        <div class=\"media-cover\">\n",
       "                            <div class=\"logo-avatar\"><img pre=\"1\" src=\"<%=(it.logo?(decodeURIComponent(it.logo)+'/200'):'//mat1.gtimg.com/gongyi/201799/icons/null_ngo.png')%>\" error-img=\"//mat1.gtimg.com/gongyi/201799/icons/null_ngo.png\"></div>\n",
       "                            <%if(it.rk && it.rk<4){%><span class=\"media-rank<%=((it.rk && it.rk<=3)?it.rk:'')%>\"><%=(it.rk-0 || '')%></span><%}%>\n",
       "                        </div>\n",
       "                        <div class=\"media-info\">\n",
       "                            <%if(it.rk){%><p class=\"proj-rank\">第&nbsp;<b class=\"DinC\"><%=it.rk%></b>&nbsp;名</p><%}%>\n",
       "                            <h4><b><%#(decodeURIComponent(it.title) || '**')%></b></h4>\n",
       "                            <p class=\"media-desc\"><%#decodeURIComponent(it.desc || '')%></p>\n",
       "                            <div class=\"media-data nporank-data\">携手&nbsp;<span class=\"DinC\"><%=$G.Util.number.format(it.tms || 0)%></span>&nbsp;人&nbsp;&nbsp;&nbsp;&nbsp;9月9日筹得&nbsp;<span class=\"DinC\"><%=$G.Util.number.format((it.mn/100).toFixed(0))%></span>&nbsp;元</div>\n",
       "                        </div>\n",
       "                    </a>\n",
       "                </li>\n",
       "                        <%}%>\n",
       "                <%}else{%>\n",
       "                        <%for(var i=0,it,il=list.length;i < il && (it=list[i]);i++){ it.logo=((it.logo && 'null'!=it.logo)?(decodeURIComponent(it.logo)+'/500'):'');(!!_k_ && (it.rk+=1));%>\n",
       "                <li class=\"media-item\">\n",
       "                    <a class=\"media media-proj\" href=\"/m/weixin/detail.htm?pid=<%=it.id%>&gt=<%=$G.ETAG%>&et=<%=$G.GTAG%>&ADTAG=<%=$G.ADTAG%>\">\n",
       "                        <div class=\"media-cover proj-cover\">\n",
       "                            <img pre=\"1\" src=\"<%=(it.logo || '//mat1.gtimg.com/gongyi/m/wx/yqj_201699/team_head.png')%>\" error-img=\"//mat1.gtimg.com/gongyi/201799/icons/null_proj.png\">\n",
       "                        </div>\n",
       "                        <div class=\"media-info\">\n",
       "                            <%if(it.rk){%><p class=\"proj-rank\">第&nbsp;<b class=\"DinC\"><%=it.rk%></b>&nbsp;名</p><%}%>\n",
       "                            <h4 class=\"proj-name\"><b><%#(decodeURIComponent(it.title) || '爱心企业')%></b></h4>\n",
       "                            <p class=\"media-data proj-data\">携手&nbsp;<span class=\"DinC\"><%=$G.Util.number.format(it.tms || 0)%></span>&nbsp;人&nbsp;&nbsp;&nbsp;&nbsp;9月9日筹得&nbsp;<span class=\"DinC\"><%=$G.Util.number.format((it.mn/100).toFixed(0))%></span>&nbsp;元</p>\n",
       "                        </div>\n",
       "                    </a>\n",
       "                </li>\n",
       "                        <%}%>\n",
       "                <%}%>\n",
       "            <%}%>\n",
       "        </script>\n",
       "<script type=\"text/javascript\">\n",
       "var ua=navigator.userAgent, wxv=parseInt(ua.substring(ua.toLowerCase().indexOf(\"micromessenger/\")+15));\n",
       "var uClient = \"mq\";\n",
       "if(wxv >= 5){\n",
       "    uClient = \"wx\";\n",
       "}else{\n",
       "\tisQzone = ua.match(\"Qzone\");\n",
       "\tif(isQzone){\n",
       "\t\tuClient = 'qzone';\n",
       "\t}\n",
       "}\n",
       "var iPad = ua.match(/(iPad).*OS\\s([\\d_]+)/),\n",
       "    iPhone = !iPad && ua.match(/(iPhone\\sOS)\\s([\\d_]+)/),\n",
       "    iPod = ua.match(/(iPod).*OS\\s([\\d_]+)/),\n",
       "    android = ua.match(/(Android)\\s+([\\d.]+)/)||ua.match(/Android/),\n",
       "    wp = ua.match(/Windows Phone ([\\d.]+)/),\n",
       "    isMobile = iPad || iPhone || iPad || wp || android;\n",
       "</script>\n",
       "<script type=\"text/javascript\">\n",
       "    if(uClient == \"wx\"){\n",
       "        document.write('<script type=\"text/javascript\" src=\"//res.wx.qq.com/open/js/jweixin-1.2.0.js\"><\\/script>');\n",
       "    }else{\n",
       "        document.write('<script src=\"//pub.idqqimg.com/qqmobile/qqapi.js?_bid=152\"><\\/script>');\n",
       "    }\n",
       "</script>\n",
       "<script type=\"text/javascript\">\n",
       "    if(uClient == \"wx\"){\n",
       "        document.write('<script type=\"text/javascript\" src=\"/js/static/lib/gy.wx.2.1.0.min.js?v=3095\"><\\/script>');\n",
       "    }else{\n",
       "        uClient == 'qzone' && document.write('<script type=\"text/javascript\" charset=\"utf-8\" src=\"http://qzonestyle.gtimg.cn/qzone/phone/m/v4/widget/mobile/jsbridge.js\"><\\/script>');\n",
       "        document.write('<script type=\"text/javascript\" charset=\"utf-8\" src=\"/js/static/lib/gy.mq.1.1.0.min.js?v1639\"><\\/script>');\n",
       "    }\n",
       "</script>\n",
       "<script src=\"/js/201799/realtime.min.js?rev=dc3b3533acb4d6399861f3e4368640d9\" type=\"text/javascript\"></script>\n",
       "</body>\n",
       "</html>"
      ]
     },
     "execution_count": 11,
     "metadata": {},
     "output_type": "execute_result"
    }
   ],
   "source": [
    "soup #可以用 ctrl+F 来搜索关键词\"携手“ 然后就可以看到相应的HTML代码"
   ]
  },
  {
   "cell_type": "markdown",
   "metadata": {},
   "source": [
    "令人奇怪的是，这里我们没有看到任何数字，没有携手多少人的具体数字，也没有具体筹款额的数字，甚至连基金会的名称也没有，这是怎么回事？"
   ]
  },
  {
   "cell_type": "markdown",
   "metadata": {},
   "source": [
    "这里的显示结果表明：我们在页面看到的“携手”和“筹款额”，并不是静止的数字，而应该是从数据库里面提取出来的结果，我们现在拿下来的HTML代码，在相应的位置上，显示的是在从数据库里面提取具体数字结果的地址和变量。\n",
    "\n",
    "这就引出了网页的另外几个知识点"
   ]
  },
  {
   "cell_type": "markdown",
   "metadata": {},
   "source": [
    "## 2.3 静态网页和动态网页"
   ]
  },
  {
   "cell_type": "markdown",
   "metadata": {},
   "source": [
    "静态网页和动态网页的区别有几个，一般说来最主要区别是：\n",
    "1. 如果所有页面都是保存在服务器上面的文件，那么就是静态的，如果要根据用户的行为来返回一个网页的，那么就是动态的。\n",
    "2. 如果跟后台数据库有交流，那很可能是动态的。"
   ]
  },
  {
   "cell_type": "markdown",
   "metadata": {},
   "source": [
    "我们看到的这个腾讯的公益日排行的页面，虽然是html结尾，但是他的"
   ]
  },
  {
   "cell_type": "code",
   "execution_count": null,
   "metadata": {
    "collapsed": true
   },
   "outputs": [],
   "source": []
  },
  {
   "cell_type": "code",
   "execution_count": null,
   "metadata": {
    "collapsed": true
   },
   "outputs": [],
   "source": []
  },
  {
   "cell_type": "code",
   "execution_count": null,
   "metadata": {
    "collapsed": true
   },
   "outputs": [],
   "source": []
  },
  {
   "cell_type": "code",
   "execution_count": null,
   "metadata": {
    "collapsed": true
   },
   "outputs": [],
   "source": []
  },
  {
   "cell_type": "code",
   "execution_count": null,
   "metadata": {
    "collapsed": true
   },
   "outputs": [],
   "source": []
  }
 ],
 "metadata": {
  "kernelspec": {
   "display_name": "Python 3",
   "language": "python",
   "name": "python3"
  },
  "language_info": {
   "codemirror_mode": {
    "name": "ipython",
    "version": 3
   },
   "file_extension": ".py",
   "mimetype": "text/x-python",
   "name": "python",
   "nbconvert_exporter": "python",
   "pygments_lexer": "ipython3",
   "version": "3.6.0"
  }
 },
 "nbformat": 4,
 "nbformat_minor": 2
}
